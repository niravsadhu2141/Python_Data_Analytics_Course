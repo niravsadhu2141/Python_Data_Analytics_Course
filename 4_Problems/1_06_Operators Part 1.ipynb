{
  "cells": [
    {
      "cell_type": "markdown",
      "id": "8ab55aca",
      "metadata": {
        "id": "8ab55aca"
      },
      "source": [
        "<a target=\"_blank\" href=\"https://colab.research.google.com/github/lukebarousse/Python_Data_Analytics_Course/blob/main/4_Problems/1_06_Operators Part 1.ipynb\">\n",
        "  <img src=\"https://colab.research.google.com/assets/colab-badge.svg\" alt=\"Open In Colab\"/>\n",
        "</a>"
      ]
    },
    {
      "cell_type": "markdown",
      "id": "5c28e09e",
      "metadata": {
        "id": "5c28e09e"
      },
      "source": [
        "## 🟩 Calculate Annual Salary (1.6.1)"
      ]
    },
    {
      "cell_type": "code",
      "execution_count": 2,
      "id": "f5eae247",
      "metadata": {
        "id": "f5eae247",
        "outputId": "fdef8c38-78c4-46f2-adc1-205ead9fe6c7",
        "colab": {
          "base_uri": "https://localhost:8080/"
        }
      },
      "outputs": [
        {
          "output_type": "execute_result",
          "data": {
            "text/plain": [
              "96000"
            ]
          },
          "metadata": {},
          "execution_count": 2
        }
      ],
      "source": [
        "# Code Needed\n",
        "monthly_salary = 8000\n",
        "annual_salary = monthly_salary * 12\n",
        "\n",
        "annual_salary"
      ]
    },
    {
      "cell_type": "markdown",
      "id": "75a63b15",
      "metadata": {
        "id": "75a63b15"
      },
      "source": [
        "---"
      ]
    },
    {
      "cell_type": "markdown",
      "id": "9f50032f",
      "metadata": {
        "id": "9f50032f"
      },
      "source": [
        "## 🟩 Compare Salaries (1.6.2)"
      ]
    },
    {
      "cell_type": "code",
      "execution_count": 12,
      "id": "d74e5eec",
      "metadata": {
        "id": "d74e5eec",
        "outputId": "aead63ca-cb12-4ca8-f0df-2a1e62ff67d2",
        "colab": {
          "base_uri": "https://localhost:8080/"
        }
      },
      "outputs": [
        {
          "output_type": "stream",
          "name": "stdout",
          "text": [
            "salary is greater\n"
          ]
        }
      ],
      "source": [
        "# Code Needed\n",
        "avg_salary_analyst = 70000\n",
        "avg_salary_scientist = 85000\n",
        "\n",
        "\n",
        "# Code Needed\n",
        "avg_salary_analyst = 70000\n",
        "avg_salary_scientist = 85000\n",
        "\n",
        "\n",
        "avg_salary_analyst == avg_salary_scientist\n",
        "\n",
        "if avg_salary_scientist > avg_salary_analyst:\n",
        "  print(\"salary is greater\")"
      ]
    },
    {
      "cell_type": "markdown",
      "id": "53cabe65",
      "metadata": {
        "id": "53cabe65"
      },
      "source": [
        "---"
      ]
    },
    {
      "cell_type": "markdown",
      "id": "a0898aab",
      "metadata": {
        "id": "a0898aab"
      },
      "source": [
        "## 🟨 Calculate Remainder (1.6.3)"
      ]
    },
    {
      "cell_type": "code",
      "execution_count": 15,
      "id": "97e2ce73",
      "metadata": {
        "id": "97e2ce73",
        "outputId": "ae3d0158-f8f8-42ed-ce58-5d9071617c52",
        "colab": {
          "base_uri": "https://localhost:8080/"
        }
      },
      "outputs": [
        {
          "output_type": "stream",
          "name": "stdout",
          "text": [
            "remainder is 56\n"
          ]
        }
      ],
      "source": [
        "# Code Needed\n",
        "total_applications = 123\n",
        "job_openings = 67\n",
        "\n",
        "print(\"remainder is\", total_applications % job_openings)"
      ]
    },
    {
      "cell_type": "markdown",
      "id": "f069d320",
      "metadata": {
        "id": "f069d320"
      },
      "source": [
        "---"
      ]
    },
    {
      "cell_type": "markdown",
      "id": "45fb92ab",
      "metadata": {
        "id": "45fb92ab"
      },
      "source": [
        "## 🟨 Increment Job Postings (1.6.4)"
      ]
    },
    {
      "cell_type": "code",
      "execution_count": 16,
      "id": "c05ce14e",
      "metadata": {
        "id": "c05ce14e",
        "outputId": "75e49ac1-8829-4820-c472-6371670a0307",
        "colab": {
          "base_uri": "https://localhost:8080/"
        }
      },
      "outputs": [
        {
          "output_type": "execute_result",
          "data": {
            "text/plain": [
              "25"
            ]
          },
          "metadata": {},
          "execution_count": 16
        }
      ],
      "source": [
        "# Code Needed\n",
        "job_postings = 20\n",
        "\n",
        "job_postings += 5\n",
        "\n",
        "job_postings"
      ]
    },
    {
      "cell_type": "markdown",
      "id": "c4bf5251",
      "metadata": {
        "id": "c4bf5251"
      },
      "source": [
        "---"
      ]
    },
    {
      "cell_type": "markdown",
      "id": "ffe080db",
      "metadata": {
        "id": "ffe080db"
      },
      "source": [
        "## 🟨 Calculate Average Salary (1.6.5)"
      ]
    },
    {
      "cell_type": "code",
      "execution_count": 18,
      "id": "c5bb9dc1",
      "metadata": {
        "id": "c5bb9dc1",
        "outputId": "73bc415c-bf84-4fe6-c136-7027003ca4e8",
        "colab": {
          "base_uri": "https://localhost:8080/"
        }
      },
      "outputs": [
        {
          "output_type": "execute_result",
          "data": {
            "text/plain": [
              "85000.0"
            ]
          },
          "metadata": {},
          "execution_count": 18
        }
      ],
      "source": [
        "# Code Needed\n",
        "min_salary = 50000\n",
        "max_salary = 120000\n",
        "\n",
        "avg_salary = (min_salary + max_salary) / 2\n",
        "\n",
        "avg_salary"
      ]
    },
    {
      "cell_type": "markdown",
      "id": "156db404",
      "metadata": {
        "id": "156db404"
      },
      "source": [
        "---"
      ]
    }
  ],
  "metadata": {
    "language_info": {
      "name": "python"
    },
    "colab": {
      "provenance": []
    },
    "kernelspec": {
      "name": "python3",
      "display_name": "Python 3"
    }
  },
  "nbformat": 4,
  "nbformat_minor": 5
}